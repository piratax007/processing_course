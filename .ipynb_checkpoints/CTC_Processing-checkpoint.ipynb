{
 "cells": [
  {
   "cell_type": "markdown",
   "metadata": {},
   "source": [
    "# Tecnologías Creativas en el Aula - Processing\n",
    "\n",
    "## Introducción\n",
    "\n",
    "### ¿Por qué es programar?\n",
    "\n",
    "Tal vez alguna vez has utilizado un computador, o tal vez un celuar o cualquier dispositivo tecnológico, si es así entonces habras utilizado los resultados del trabajo de algún hacker que ha programado dicha tecnología. Si te gusta la tecnología entenderás por qué debes aprender a programar ya que si y solo si sabes programar podrás participar en el desarrollo de la tecnología que constituye el futuro - *\"Todos sabemos cómo será el futuro pero casi nadie se pregunta cómo haremos realidad ese futuro\"* [**David Cuartielles**][1]. Y si no estas pensando en ser ingenier, científico o hacker ¿por qué debería aprender a programar? la respuesta es simple pero no fácil - aprender a programar va a contribuir para que tu cerebro desarrolle nuevos circuitos sinápticos que mejorarán tus capacidades de razonamiento lógico, estructurado y ordenado, también se desarrollará tu intuición, serás más crítico y evaluarás más rápidamente los errores que cometas en tus razonamientos y en los razonamientos de tus interlocutores. Programar no es una tarea que deba aprender únicamente quien tenga interés en la tecnología es un deber de todo ciudadano crítico y conciente de su sociedad. Aprenderás también cuál es la diferencia entre ser un usuario de la tecnología y dejarse usar por ésta.\n",
    "\n",
    "### ¿Qué es programar?\n",
    "\n",
    "Programar no necesariamente tiene que ver con escribir código de programación en algún lenguaje en particular, programar tiene más que ver con desarrollar un algoritmo que sirva para ejecutar cualquier tarea de forma eficiente. Piensa y responde\n",
    "\n",
    "1. ¿Cuál es el procedimiento que sigues cada vez que te lavas los dientes?\n",
    "2. Ahora detalla en una lista cada uno de los pasos que debes seguir, entre más detallada sea tu lista mejor.\n",
    "3. ¿Alguno de los pasos que listaste en el paso anterior es redundante o puede eliminarse de la lista sin perdida de calidad en el resutaldo final (tener los dientes límpios)?\n",
    "\n",
    "Lo que has hecho es \n",
    "1. Determinar un problema\n",
    "2. Establecer un algoritmo de solución\n",
    "3. Depurar tu algoritmo\n",
    "por lo tanto lo que has hecho es **programar** tu cerebro para que ejecute los pasos necesarios para que tengas los dientes límpios.\n",
    "\n",
    "Si desarrollaste el ejercicio anterior estas ahora en capacidad de comprender que programar no tiene que ver con desarrollar código e incluso no tiene que ver con la tecnología, tiene que ver con pensar. Aparentemente siempre pensamos, pero eso no es muy cierto, por lo general dejamos que sea nuestro cerebro quien tome decisiones que se ejecutan completamente en segundo plano y de las cuales no somos concientes. Programar es hacerse conciente de un problema y los pasos necesarios para resolverlo eficientemente y esto exige una alta disposición para pensar de manera estructurada.\n",
    "\n",
    "Programar no es una tarea fácil, es una tarea exigente que pondrá un jaque tu tolerancia al fracaso pero descubrirás que la satisfacción de conseguir la solución de un problema es más grande que cualquier sacrificio hecho para encontrarla, aprenderás que el esfuerzo, la dedicación y disciplina son los pasos que debes dar para conseguir el éxito y son los escudos que te defienden de la mediocridad.\n",
    "\n",
    "[1]: https://elpais.com/diario/2006/09/28/ciberpais/1159408943_850215.html"
   ]
  },
  {
   "cell_type": "code",
   "execution_count": null,
   "metadata": {},
   "outputs": [],
   "source": []
  }
 ],
 "metadata": {
  "kernelspec": {
   "display_name": "Calysto Processing",
   "language": "java",
   "name": "calysto_processing"
  },
  "language_info": {
   "codemirror_mode": {
    "name": "text/x-java",
    "version": 2
   },
   "file_extension": ".java",
   "mimetype": "text/x-java",
   "name": "java"
  }
 },
 "nbformat": 4,
 "nbformat_minor": 2
}
